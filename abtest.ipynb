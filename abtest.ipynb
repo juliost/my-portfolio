{
 "cells": [
  {
   "cell_type": "code",
   "execution_count": 1,
   "id": "65efdfd0-2189-425c-8ef1-87c2aa202fe9",
   "metadata": {},
   "outputs": [],
   "source": [
    "import pandas as pd\n",
    "from statsmodels.stats.proportion import proportions_ztest\n",
    "import matplotlib.pyplot as plt\n",
    "import seaborn as sns\n"
   ]
  },
  {
   "cell_type": "code",
   "execution_count": 2,
   "id": "39371d76-fc4c-4763-9d4f-5ede45ce7b08",
   "metadata": {},
   "outputs": [],
   "source": [
    "# Load A/B test dataset\n",
    "ab_df = pd.read_csv('ab_test.csv')\n",
    "\n",
    "# Load country information\n",
    "countries_df = pd.read_csv('countries_ab.csv')\n",
    "\n",
    "# Merge the two datasets on the 'id' column\n",
    "merged_df = pd.merge(ab_df, countries_df, on='id', how='left')\n"
   ]
  },
  {
   "cell_type": "code",
   "execution_count": 3,
   "id": "c452c836-e9d5-4e62-8f21-f5db1053dc4b",
   "metadata": {},
   "outputs": [
    {
     "name": "stdout",
     "output_type": "stream",
     "text": [
      "       id     time  con_treat      page  converted country\n",
      "0  851104  11:48.6    control  old_page          0      US\n",
      "1  804228  01:45.2    control  old_page          0      US\n",
      "2  661590  55:06.2  treatment  new_page          0      US\n",
      "3  853541  28:03.1  treatment  new_page          0      US\n",
      "4  864975  52:26.2    control  old_page          1      US\n",
      "Missing values per column:\n",
      " id           0\n",
      "time         0\n",
      "con_treat    0\n",
      "page         0\n",
      "converted    0\n",
      "country      0\n",
      "dtype: int64\n"
     ]
    }
   ],
   "source": [
    "# Display the first few rows of the merged dataset\n",
    "print(merged_df.head())\n",
    "\n",
    "# Check for missing values\n",
    "print(\"Missing values per column:\\n\", merged_df.isnull().sum())\n",
    "\n",
    "# Ensure 'converted' column is of integer type\n",
    "merged_df['converted'] = merged_df['converted'].astype(int)\n"
   ]
  },
  {
   "cell_type": "code",
   "execution_count": 4,
   "id": "5f9f780f-e5f5-40f4-9fe8-47582fa268e5",
   "metadata": {},
   "outputs": [],
   "source": [
    "# Split data into control and treatment groups\n",
    "control_group = merged_df[merged_df['con_treat'] == 'control']\n",
    "treatment_group = merged_df[merged_df['con_treat'] == 'treatment']\n"
   ]
  },
  {
   "cell_type": "code",
   "execution_count": 5,
   "id": "b7e085e7-92ab-41bd-96ea-7cd119ccf637",
   "metadata": {},
   "outputs": [
    {
     "name": "stdout",
     "output_type": "stream",
     "text": [
      "Control: 17723 conversions out of 147202\n",
      "Treatment: 17514 conversions out of 147276\n"
     ]
    }
   ],
   "source": [
    "# Calculate number of conversions (successes) in each group\n",
    "successes = [control_group['converted'].sum(), treatment_group['converted'].sum()]\n",
    "\n",
    "# Calculate number of observations in each group\n",
    "n_obs = [len(control_group), len(treatment_group)]\n",
    "\n",
    "# Print group statistics\n",
    "print(f\"Control: {successes[0]} conversions out of {n_obs[0]}\")\n",
    "print(f\"Treatment: {successes[1]} conversions out of {n_obs[1]}\")\n"
   ]
  },
  {
   "cell_type": "code",
   "execution_count": 6,
   "id": "a43f87a5-7806-4c77-835c-49b45521c3f5",
   "metadata": {},
   "outputs": [
    {
     "name": "stdout",
     "output_type": "stream",
     "text": [
      "\n",
      "Z-statistic: 1.2369\n",
      "P-value: 0.2161\n",
      "❌ There is no statistically significant difference between the control and treatment groups.\n"
     ]
    }
   ],
   "source": [
    "# Perform two-proportion Z-test\n",
    "z_stat, p_value = proportions_ztest(successes, n_obs)\n",
    "\n",
    "# Print test result\n",
    "print(f\"\\nZ-statistic: {z_stat:.4f}\")\n",
    "print(f\"P-value: {p_value:.4f}\")\n",
    "\n",
    "# Define significance level and interpret result\n",
    "alpha = 0.05\n",
    "if p_value < alpha:\n",
    "    print(\"✅ There is a statistically significant difference between the control and treatment groups.\")\n",
    "else:\n",
    "    print(\"❌ There is no statistically significant difference between the control and treatment groups.\")\n"
   ]
  },
  {
   "cell_type": "code",
   "execution_count": 7,
   "id": "dc2aac1f-5497-4fd1-9220-d30593b1cd2b",
   "metadata": {},
   "outputs": [
    {
     "name": "stdout",
     "output_type": "stream",
     "text": [
      "\n",
      "Conversion rate by country:\n",
      "country\n",
      "UK    0.120582\n",
      "US    0.119599\n",
      "CA    0.115890\n",
      "Name: converted, dtype: float64\n"
     ]
    }
   ],
   "source": [
    "# Calculate conversion rate per country\n",
    "conversion_by_country = merged_df.groupby('country')['converted'].mean().sort_values(ascending=False)\n",
    "\n",
    "# Display result\n",
    "print(\"\\nConversion rate by country:\")\n",
    "print(conversion_by_country)\n"
   ]
  },
  {
   "cell_type": "code",
   "execution_count": 8,
   "id": "cf251463-924c-415c-abc7-90db86abcd6f",
   "metadata": {},
   "outputs": [],
   "source": [
    "# Save the merged data to a new CSV file\n",
    "merged_df.to_csv('merged_ab_results.csv', index=False)\n"
   ]
  },
  {
   "cell_type": "code",
   "execution_count": 9,
   "id": "c25b2ae7-cc23-41ca-ade9-808e7fa3019f",
   "metadata": {},
   "outputs": [
    {
     "data": {
      "image/png": "[encoded data removed]",
      "text/plain": [
       "<Figure size 600x400 with 1 Axes>"
      ]
     },
     "metadata": {},
     "output_type": "display_data"
    }
   ],
   "source": [
    "# Calculate conversion rate\n",
    "conversion_rates = merged_df.groupby('con_treat')['converted'].mean().reset_index()\n",
    "\n",
    "# Plotting conversion rate by group\n",
    "plt.figure(figsize=(6, 4))\n",
    "sns.barplot(data=conversion_rates, x='con_treat', y='converted', hue='con_treat', palette='viridis', legend=False)\n",
    "\n",
    "# Annotate bars\n",
    "for i, row in conversion_rates.iterrows():\n",
    "    plt.text(i, row['converted'] + 0.002, f\"{row['converted']:.2%}\", ha='center', fontweight='bold')\n",
    "\n",
    "plt.title('Conversion Rate by Group')\n",
    "plt.ylabel('Conversion Rate')\n",
    "plt.xlabel('Group')\n",
    "plt.ylim(0, conversion_rates['converted'].max() + 0.05)\n",
    "plt.tight_layout()\n",
    "plt.show()\n"
   ]
  },
  {
   "cell_type": "code",
   "execution_count": 10,
   "id": "b5a4b673-8a67-47d4-9ff1-e6bea9afc3d6",
   "metadata": {},
   "outputs": [
    {
     "data": {
      "image/png": "[encoded data removed]",
      "text/plain": [
       "<Figure size 1000x600 with 1 Axes>"
      ]
     },
     "metadata": {},
     "output_type": "display_data"
    }
   ],
   "source": [
    "# Calculate conversion rate per group and country\n",
    "conv_by_country_group = merged_df.groupby(['country', 'con_treat'])['converted'].mean().reset_index()\n",
    "\n",
    "# Plot conversion rate by country and group\n",
    "plt.figure(figsize=(10, 6))\n",
    "sns.barplot(data=conv_by_country_group, x='country', y='converted', hue='con_treat', palette='Set2')\n",
    "\n",
    "plt.title('Conversion Rate by Country and Group')\n",
    "plt.ylabel('Conversion Rate')\n",
    "plt.xlabel('Country')\n",
    "plt.xticks(rotation=45)\n",
    "plt.tight_layout()\n",
    "plt.show()\n"
   ]
  },
  {
   "cell_type": "code",
   "execution_count": 11,
   "id": "98e735d1-1efe-447d-96de-f1e73359b2d4",
   "metadata": {},
   "outputs": [
    {
     "data": {
      "text/html": [
       "<div>\n",
       "<style scoped>\n",
       "    .dataframe tbody tr th:only-of-type {\n",
       "        vertical-align: middle;\n",
       "    }\n",
       "\n",
       "    .dataframe tbody tr th {\n",
       "        vertical-align: top;\n",
       "    }\n",
       "\n",
       "    .dataframe thead th {\n",
       "        text-align: right;\n",
       "    }\n",
       "</style>\n",
       "<table border=\"1\" class=\"dataframe\">\n",
       "  <thead>\n",
       "    <tr style=\"text-align: right;\">\n",
       "      <th>con_treat</th>\n",
       "      <th>control</th>\n",
       "      <th>treatment</th>\n",
       "    </tr>\n",
       "    <tr>\n",
       "      <th>country</th>\n",
       "      <th></th>\n",
       "      <th></th>\n",
       "    </tr>\n",
       "  </thead>\n",
       "  <tbody>\n",
       "    <tr>\n",
       "      <th>CA</th>\n",
       "      <td>0.496904</td>\n",
       "      <td>0.503096</td>\n",
       "    </tr>\n",
       "    <tr>\n",
       "      <th>UK</th>\n",
       "      <td>0.501791</td>\n",
       "      <td>0.498209</td>\n",
       "    </tr>\n",
       "    <tr>\n",
       "      <th>US</th>\n",
       "      <td>0.499404</td>\n",
       "      <td>0.500596</td>\n",
       "    </tr>\n",
       "  </tbody>\n",
       "</table>\n",
       "</div>"
      ],
      "text/plain": [
       "con_treat   control  treatment\n",
       "country                       \n",
       "CA         0.496904   0.503096\n",
       "UK         0.501791   0.498209\n",
       "US         0.499404   0.500596"
      ]
     },
     "execution_count": 11,
     "metadata": {},
     "output_type": "execute_result"
    }
   ],
   "source": [
    "# Check country balance between groups\n",
    "pd.crosstab(merged_df['country'], merged_df['con_treat'], normalize='index')\n"
   ]
  },
  {
   "cell_type": "code",
   "execution_count": null,
   "id": "6589d20d-f171-4441-981c-3444400ffe99",
   "metadata": {},
   "outputs": [],
   "source": []
  },
  {
   "cell_type": "code",
   "execution_count": null,
   "id": "519ad02b-b58c-4198-b951-3027183c7e6d",
   "metadata": {},
   "outputs": [],
   "source": []
  }
 ],
 "metadata": {
  "kernelspec": {
   "display_name": "Python 3 (ipykernel)",
   "language": "python",
   "name": "python3"
  },
  "language_info": {
   "codemirror_mode": {
    "name": "ipython",
    "version": 3
   },
   "file_extension": ".py",
   "mimetype": "text/x-python",
   "name": "python",
   "nbconvert_exporter": "python",
   "pygments_lexer": "ipython3",
   "version": "3.12.11"
  }
 },
 "nbformat": 4,
 "nbformat_minor": 5
}
